{
  "nbformat": 4,
  "nbformat_minor": 0,
  "metadata": {
    "colab": {
      "name": "MLReview.ipynb",
      "provenance": [],
      "collapsed_sections": [],
      "authorship_tag": "ABX9TyNDU1EcjcqwbKkARygmwJL4",
      "include_colab_link": true
    },
    "kernelspec": {
      "name": "python3",
      "display_name": "Python 3"
    },
    "language_info": {
      "name": "python"
    }
  },
  "cells": [
    {
      "cell_type": "markdown",
      "metadata": {
        "id": "view-in-github",
        "colab_type": "text"
      },
      "source": [
        "<a href=\"https://colab.research.google.com/github/boramkim0514/python_reviews/blob/main/MLReview.ipynb\" target=\"_parent\"><img src=\"https://colab.research.google.com/assets/colab-badge.svg\" alt=\"Open In Colab\"/></a>"
      ]
    },
    {
      "cell_type": "markdown",
      "metadata": {
        "id": "JcvR6x8PXNh-"
      },
      "source": [
        "01. [ 머신러닝의 지도학습 ]\n",
        "알고리즘에 데이터 대입 후 머신러닝 모델이 데이터를 이해하는 것\n",
        "\n",
        "feature : 학습위한 데이터\n",
        "label : 정답\n",
        "\n",
        "분류/회귀\n",
        "목적\n",
        "분류: 카테고리 예측(이진/다중 분류)\n",
        "회귀: 연속적인 숫자, 부동 소수점(실수) 예측\n",
        "일반화: 학습(훈련)된 모델이 처음 보는 새로운 데이터를 정확하게 예측할 수 있는 것\n",
        "너무 복잡하게 해석(과대적합), 단순 해석도 피해야함(과소적합)\n",
        "\n",
        "복잡도 조절\n",
        "1. 데이터 복잡도 조절\n",
        "    -데이터의 특성(feature) 양(volume) 가 많아지면서 데이터 복잡해짐\n",
        "2. 머신러닝의 모델 복잡도 조절\n",
        "    -하이퍼 파라미터 조정\n",
        "\n",
        " 02. [ sklearn ]\n",
        " 머신러닝의 라이브러리(도구) 한 종류\n",
        "\n",
        "\n",
        "2. 훈련 fit\n",
        "fit(X , y)\n",
        "    - X : feature\n",
        "    - y : label\n",
        "\n",
        "\n",
        "## LinearRegression 간단 소개\n",
        "데이터 `X`가 들어왔을 때 `y`를 예측 하기 위한 기울기와 편향을 학습\n",
        "\n",
        "$$\n",
        "y = WX + b\n",
        "$$\n",
        "\n",
        "fit 할때 무조건 2차원 배열\n",
        "X.reshape(-1, 1)\n"
      ]
    },
    {
      "cell_type": "code",
      "metadata": {
        "id": "BtuaqYm1ZI6P"
      },
      "source": [
        "X = np.array([1,2,3,5])\n",
        "y = np.array([3,5,7,11])"
      ],
      "execution_count": 19,
      "outputs": []
    },
    {
      "cell_type": "code",
      "metadata": {
        "colab": {
          "base_uri": "https://localhost:8080/"
        },
        "id": "TxQrS5ufZdzP",
        "outputId": "dbf84f18-ba21-4550-9541-9ba10ba2029f"
      },
      "source": [
        "X.shape"
      ],
      "execution_count": 21,
      "outputs": [
        {
          "output_type": "execute_result",
          "data": {
            "text/plain": [
              "(4,)"
            ]
          },
          "metadata": {
            "tags": []
          },
          "execution_count": 21
        }
      ]
    },
    {
      "cell_type": "markdown",
      "metadata": {
        "id": "Oz_yPy9jXM4P"
      },
      "source": [
        ""
      ]
    },
    {
      "cell_type": "code",
      "metadata": {
        "colab": {
          "base_uri": "https://localhost:8080/",
          "height": 139
        },
        "id": "8BS1l8-4RCGO",
        "outputId": "46b48033-f224-4cf0-8dce-2356e5398802"
      },
      "source": [
        "!pip install mglearn\n"
      ],
      "execution_count": 22,
      "outputs": [
        {
          "output_type": "error",
          "ename": "SyntaxError",
          "evalue": "ignored",
          "traceback": [
            "\u001b[0;36m  File \u001b[0;32m\"<ipython-input-22-f11cb023bdf1>\"\u001b[0;36m, line \u001b[0;32m1\u001b[0m\n\u001b[0;31m    }!pip install mglearn\u001b[0m\n\u001b[0m    ^\u001b[0m\n\u001b[0;31mSyntaxError\u001b[0m\u001b[0;31m:\u001b[0m invalid syntax\n"
          ]
        }
      ]
    },
    {
      "cell_type": "code",
      "metadata": {
        "colab": {
          "base_uri": "https://localhost:8080/",
          "height": 323
        },
        "id": "0TCHBE3zRW__",
        "outputId": "f0334020-0814-4893-a65f-e612aec5f2b4"
      },
      "source": [
        "import mglearn\n",
        "mglearn.plots.plot_knn_classification(n_neighbors=3)"
      ],
      "execution_count": 2,
      "outputs": [
        {
          "output_type": "stream",
          "text": [
            "/usr/local/lib/python3.7/dist-packages/sklearn/utils/deprecation.py:87: FutureWarning: Function make_blobs is deprecated; Please import make_blobs directly from scikit-learn\n",
            "  warnings.warn(msg, category=FutureWarning)\n"
          ],
          "name": "stderr"
        },
        {
          "output_type": "display_data",
          "data": {
            "image/png": "[encoded data removed]",
            "text/plain": [
              "<Figure size 432x288 with 1 Axes>"
            ]
          },
          "metadata": {
            "tags": [],
            "needs_background": "light"
          }
        }
      ]
    },
    {
      "cell_type": "code",
      "metadata": {
        "colab": {
          "base_uri": "https://localhost:8080/"
        },
        "id": "oIaQbLN6RdAg",
        "outputId": "1f036468-7d90-4da3-d167-cffa46f56a82"
      },
      "source": [
        "import numpy as np\n",
        "\n",
        "np.random.permutation(100)"
      ],
      "execution_count": 5,
      "outputs": [
        {
          "output_type": "execute_result",
          "data": {
            "text/plain": [
              "array([66,  5, 28, 14, 62, 36, 15, 96, 69, 51, 37, 83, 57, 72, 60, 86,  6,\n",
              "       10, 25, 67,  0, 42, 70, 80, 33, 65, 13, 94, 88, 47, 92, 75, 39, 56,\n",
              "       68, 34, 77, 71, 43, 74, 26, 61, 48, 63, 27, 49, 23, 22, 18, 45, 32,\n",
              "       76, 78, 87,  4, 99, 19, 44, 41, 50, 24, 98, 84,  1, 11, 95, 59, 90,\n",
              "       85, 97,  3, 35, 79, 53, 21, 91, 73, 40, 81,  7, 16, 93, 52, 82, 38,\n",
              "       17, 46,  2,  8,  9, 54, 30, 31, 29, 64, 55, 12, 58, 20, 89])"
            ]
          },
          "metadata": {
            "tags": []
          },
          "execution_count": 5
        }
      ]
    },
    {
      "cell_type": "code",
      "metadata": {
        "id": "hTobbZwWTzLp"
      },
      "source": [
        "def split_train_test(data, test_ratio=0.2):\n",
        "    shuffled_indices = np.random.permutation(len(data))"
      ],
      "execution_count": 16,
      "outputs": []
    },
    {
      "cell_type": "code",
      "metadata": {
        "id": "cv67jk4PgKZf"
      },
      "source": [
        ""
      ],
      "execution_count": null,
      "outputs": []
    },
    {
      "cell_type": "code",
      "metadata": {
        "id": "TTFPpAlDcx_n"
      },
      "source": [
        ""
      ],
      "execution_count": null,
      "outputs": []
    }
  ]
}